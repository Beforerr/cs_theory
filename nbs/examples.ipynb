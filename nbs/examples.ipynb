{
 "cells": [
  {
   "cell_type": "markdown",
   "metadata": {},
   "source": [
    "## Get data"
   ]
  },
  {
   "cell_type": "code",
   "execution_count": 5,
   "metadata": {},
   "outputs": [
    {
     "name": "stderr",
     "output_type": "stream",
     "text": [
      "2024-11-22 12:02:39,747\tINFO worker.py:1652 -- Calling ray.init() again after it has already been called.\n",
      "22-Nov-24 12:02:39: /Users/zijin/projects/discontinuitypy/src/discontinuitypy/utils/plot.py:222: SyntaxWarning: invalid escape sequence '\\m'\n",
      "  chisqr = event.get(\"fit.stat.chisqr\")\n",
      "\n",
      "22-Nov-24 12:02:39: /Users/zijin/projects/discontinuitypy/src/discontinuitypy/utils/plot.py:222: SyntaxWarning: invalid escape sequence '\\c'\n",
      "  chisqr = event.get(\"fit.stat.chisqr\")\n",
      "\n",
      "22-Nov-24 12:02:39: /Users/zijin/projects/discontinuitypy/src/discontinuitypy/utils/plot.py:223: SyntaxWarning: invalid escape sequence '\\S'\n",
      "  \n",
      "\n"
     ]
    },
    {
     "name": "stdout",
     "output_type": "stream",
     "text": [
      "The autoreload extension is already loaded. To reload it, use:\n",
      "  %reload_ext autoreload\n"
     ]
    },
    {
     "ename": "ImportError",
     "evalue": "cannot import name 'to_dataarrays' from 'space_analysis.utils.speasy' (/Users/zijin/src/space-analysis.py/src/space_analysis/utils/speasy.py)",
     "output_type": "error",
     "traceback": [
      "\u001b[0;31m---------------------------------------------------------------------------\u001b[0m",
      "\u001b[0;31mImportError\u001b[0m                               Traceback (most recent call last)",
      "Cell \u001b[0;32mIn[5], line 4\u001b[0m\n\u001b[1;32m      2\u001b[0m get_ipython()\u001b[38;5;241m.\u001b[39mrun_line_magic(\u001b[38;5;124m'\u001b[39m\u001b[38;5;124mautoreload\u001b[39m\u001b[38;5;124m'\u001b[39m, \u001b[38;5;124m'\u001b[39m\u001b[38;5;124m2\u001b[39m\u001b[38;5;124m'\u001b[39m)\n\u001b[1;32m      3\u001b[0m \u001b[38;5;28;01mfrom\u001b[39;00m \u001b[38;5;21;01mdiscontinuitypy\u001b[39;00m\u001b[38;5;21;01m.\u001b[39;00m\u001b[38;5;21;01mplot\u001b[39;00m\u001b[38;5;21;01m.\u001b[39;00m\u001b[38;5;21;01malfvenicity\u001b[39;00m \u001b[38;5;28;01mimport\u001b[39;00m tsplot_Alfvenicity\n\u001b[0;32m----> 4\u001b[0m \u001b[38;5;28;01mfrom\u001b[39;00m \u001b[38;5;21;01mspace_analysis\u001b[39;00m\u001b[38;5;21;01m.\u001b[39;00m\u001b[38;5;21;01mutils\u001b[39;00m\u001b[38;5;21;01m.\u001b[39;00m\u001b[38;5;21;01mspeasy\u001b[39;00m \u001b[38;5;28;01mimport\u001b[39;00m to_dataarrays\n\u001b[1;32m      5\u001b[0m \u001b[38;5;28;01mimport\u001b[39;00m \u001b[38;5;21;01mspeasy\u001b[39;00m \u001b[38;5;28;01mas\u001b[39;00m \u001b[38;5;21;01mspz\u001b[39;00m\n\u001b[1;32m      6\u001b[0m \u001b[38;5;28;01mfrom\u001b[39;00m \u001b[38;5;21;01mspeasy\u001b[39;00m\u001b[38;5;21;01m.\u001b[39;00m\u001b[38;5;21;01mcore\u001b[39;00m\u001b[38;5;21;01m.\u001b[39;00m\u001b[38;5;21;01mrequests_scheduling\u001b[39;00m\u001b[38;5;21;01m.\u001b[39;00m\u001b[38;5;21;01mrequest_dispatch\u001b[39;00m \u001b[38;5;28;01mimport\u001b[39;00m init_cdaweb\n",
      "\u001b[0;31mImportError\u001b[0m: cannot import name 'to_dataarrays' from 'space_analysis.utils.speasy' (/Users/zijin/src/space-analysis.py/src/space_analysis/utils/speasy.py)"
     ]
    }
   ],
   "source": [
    "%load_ext autoreload\n",
    "%autoreload 2\n",
    "from discontinuitypy.plot.alfvenicity import tsplot_Alfvenicity\n",
    "from space_analysis.ds.spz.io import to_dataarrays\n",
    "import speasy as spz\n",
    "from speasy.core.requests_scheduling.request_dispatch import init_cdaweb\n",
    "import importlib.util\n",
    "import matplotlib.pyplot as plt\n",
    "from beforerr.matplotlib import PlotOpts, process_figure, easy_save\n",
    "import holoviews as hv"
   ]
  },
  {
   "cell_type": "code",
   "execution_count": 4,
   "metadata": {},
   "outputs": [
    {
     "ename": "NameError",
     "evalue": "name 'hv' is not defined",
     "output_type": "error",
     "traceback": [
      "\u001b[0;31m---------------------------------------------------------------------------\u001b[0m",
      "\u001b[0;31mNameError\u001b[0m                                 Traceback (most recent call last)",
      "Cell \u001b[0;32mIn[4], line 1\u001b[0m\n\u001b[0;32m----> 1\u001b[0m \u001b[43mhv\u001b[49m\u001b[38;5;241m.\u001b[39mextension(\u001b[38;5;124m'\u001b[39m\u001b[38;5;124mmatplotlib\u001b[39m\u001b[38;5;124m'\u001b[39m)\n\u001b[1;32m      3\u001b[0m \u001b[38;5;28;01mif\u001b[39;00m importlib\u001b[38;5;241m.\u001b[39mutil\u001b[38;5;241m.\u001b[39mfind_spec(\u001b[38;5;124m\"\u001b[39m\u001b[38;5;124mscienceplots\u001b[39m\u001b[38;5;124m\"\u001b[39m) \u001b[38;5;129;01mis\u001b[39;00m \u001b[38;5;129;01mnot\u001b[39;00m \u001b[38;5;28;01mNone\u001b[39;00m:\n\u001b[1;32m      4\u001b[0m     importlib\u001b[38;5;241m.\u001b[39mimport_module(\u001b[38;5;124m\"\u001b[39m\u001b[38;5;124mscienceplots\u001b[39m\u001b[38;5;124m\"\u001b[39m)\n",
      "\u001b[0;31mNameError\u001b[0m: name 'hv' is not defined"
     ]
    }
   ],
   "source": [
    "hv.extension(\"matplotlib\")\n",
    "\n",
    "if importlib.util.find_spec(\"scienceplots\") is not None:\n",
    "    importlib.import_module(\"scienceplots\")\n",
    "    plt.style.use([\"science\", \"nature\", \"notebook\"])\n",
    "init_cdaweb()"
   ]
  },
  {
   "cell_type": "code",
   "execution_count": 6,
   "metadata": {},
   "outputs": [],
   "source": [
    "plot_opts = PlotOpts(sync_legend_colors=True, hide_legend_lines=True)"
   ]
  },
  {
   "cell_type": "code",
   "execution_count": 1,
   "metadata": {},
   "outputs": [],
   "source": [
    "coord = \"gsm\"\n",
    "thm_products = [\n",
    "    \"cda/THB_L2_FGM/thb_fgs_gsm\",\n",
    "    \"cda/THB_L2_MOM/thb_peim_velocity_gsmQ\",\n",
    "    \"cda/THB_L2_MOM/thb_peim_densityQ\",\n",
    "]\n",
    "thm_tr = [\"2016-05-20T17:47:00\", \"2016-05-20T17:53:40\"]\n",
    "\n",
    "psp_products = [\n",
    "    \"cda/PSP_FLD_L2_MAG_RTN/psp_fld_l2_mag_RTN\",\n",
    "    \"cda/PSP_SWP_SPI_SF00_L3_MOM/VEL_SC\",\n",
    "    \"cda/PSP_SWP_SPI_SF00_L3_MOM/DENS\",\n",
    "]\n",
    "\n",
    "# higher resolution but in `tplot` format\n",
    "psp_products = [\n",
    "    \"psp_fld_l2_mag_RTN_4_Sa_per_Cyc\",\n",
    "    \"psp_swp_spi_af00_L3_VEL_RTN\",\n",
    "    \"psp_swp_spi_af00_L3_DENS\",\n",
    "]\n",
    "\n",
    "psp_tr = [\"2021-01-17T13:54:17\", \"2021-01-17T13:54:32\"]\n",
    "\n",
    "wi_products = [\"cda/WI_H2_MFI/BGSE\", \"cda/WI_PM_3DP/P_VELS\", \"cda/WI_PM_3DP/P_DENS\"]\n",
    "wi_tr = [\"2011-08-26T21:26:00\", \"2011-08-26T21:27:30\"]"
   ]
  },
  {
   "cell_type": "code",
   "execution_count": 34,
   "metadata": {},
   "outputs": [],
   "source": [
    "def temp(products, timerage):\n",
    "    d = spz.get_data(products, timerage)\n",
    "    das = to_dataarrays(d)\n",
    "    plot = tsplot_Alfvenicity(*das)\n",
    "    for subplot in plot:\n",
    "        subplot.opts(legend_position=\"right\")\n",
    "    plot[-1].opts(show_legend=False)\n",
    "    return plot"
   ]
  },
  {
   "cell_type": "code",
   "execution_count": 35,
   "metadata": {},
   "outputs": [
    {
     "name": "stderr",
     "output_type": "stream",
     "text": [
      "20-Aug-24 10:33:47: DeprecationWarning: parsing timezone aware datetimes is deprecated; this will raise an error in the future\n",
      "\n",
      "20-Aug-24 10:33:47: Can't get THB_L2_MOM/thb_peim_velocity_gsmQ without web service, switching to web service\n",
      "20-Aug-24 10:33:47: Can't get THB_L2_MOM/thb_peim_densityQ without web service, switching to web service\n",
      "\u001b[32m2024-08-20 10:33:47.438\u001b[0m | \u001b[1mINFO    \u001b[0m | \u001b[36mspace_analysis.ds.tplot.formulary\u001b[0m:\u001b[36mts_Alfven_speed\u001b[0m:\u001b[36m22\u001b[0m - \u001b[1mTime of B and density are not the same, interpolating density to B\u001b[0m\n",
      "20-Aug-24 10:33:47: DeprecationWarning: parsing timezone aware datetimes is deprecated; this will raise an error in the future\n",
      "\n",
      "\u001b[32m2024-08-20 10:33:47.871\u001b[0m | \u001b[1mINFO    \u001b[0m | \u001b[36mspace_analysis.ds.tplot.formulary\u001b[0m:\u001b[36mts_Alfven_speed\u001b[0m:\u001b[36m22\u001b[0m - \u001b[1mTime of B and density are not the same, interpolating density to B\u001b[0m\n",
      "20-Aug-24 10:33:48: DeprecationWarning: parsing timezone aware datetimes is deprecated; this will raise an error in the future\n",
      "\n",
      "\u001b[32m2024-08-20 10:33:48.124\u001b[0m | \u001b[1mINFO    \u001b[0m | \u001b[36mspace_analysis.ds.tplot.formulary\u001b[0m:\u001b[36mts_Alfven_speed\u001b[0m:\u001b[36m22\u001b[0m - \u001b[1mTime of B and density are not the same, interpolating density to B\u001b[0m\n"
     ]
    }
   ],
   "source": [
    "configs = [(thm_products, thm_tr), (psp_products, psp_tr), (wi_products, wi_tr)]\n",
    "ps = [temp(*c) for c in configs]"
   ]
  },
  {
   "cell_type": "code",
   "execution_count": 37,
   "metadata": {},
   "outputs": [],
   "source": [
    "def render_p(p, name):\n",
    "    p.opts(fig_size=150, tight=True, sublabel_format=None)\n",
    "    fig = hv.render(p)\n",
    "    process_figure(fig, plot_opts)\n",
    "    easy_save(name, fig)"
   ]
  },
  {
   "cell_type": "code",
   "execution_count": 38,
   "metadata": {},
   "outputs": [
    {
     "name": "stderr",
     "output_type": "stream",
     "text": [
      "20-Aug-24 10:34:12: MatplotlibDeprecationWarning: Passing label as a length 92 sequence when plotting a single dataset is deprecated in Matplotlib 3.9 and will error in 3.11.  To keep the current behavior, cast the sequence to string before passing.\n",
      "\n",
      "20-Aug-24 10:34:12: MatplotlibDeprecationWarning: Passing label as a length 92 sequence when plotting a single dataset is deprecated in Matplotlib 3.9 and will error in 3.11.  To keep the current behavior, cast the sequence to string before passing.\n",
      "\n",
      "20-Aug-24 10:34:12: MatplotlibDeprecationWarning: Passing label as a length 92 sequence when plotting a single dataset is deprecated in Matplotlib 3.9 and will error in 3.11.  To keep the current behavior, cast the sequence to string before passing.\n",
      "\n",
      "20-Aug-24 10:34:12: MatplotlibDeprecationWarning: Passing label as a length 92 sequence when plotting a single dataset is deprecated in Matplotlib 3.9 and will error in 3.11.  To keep the current behavior, cast the sequence to string before passing.\n",
      "\n",
      "20-Aug-24 10:34:12: MatplotlibDeprecationWarning: Passing label as a length 92 sequence when plotting a single dataset is deprecated in Matplotlib 3.9 and will error in 3.11.  To keep the current behavior, cast the sequence to string before passing.\n",
      "\n",
      "20-Aug-24 10:34:12: MatplotlibDeprecationWarning: Passing label as a length 92 sequence when plotting a single dataset is deprecated in Matplotlib 3.9 and will error in 3.11.  To keep the current behavior, cast the sequence to string before passing.\n",
      "\n",
      "20-Aug-24 10:34:12: MatplotlibDeprecationWarning: Passing label as a length 92 sequence when plotting a single dataset is deprecated in Matplotlib 3.9 and will error in 3.11.  To keep the current behavior, cast the sequence to string before passing.\n",
      "\n",
      "20-Aug-24 10:34:12: MatplotlibDeprecationWarning: Passing label as a length 92 sequence when plotting a single dataset is deprecated in Matplotlib 3.9 and will error in 3.11.  To keep the current behavior, cast the sequence to string before passing.\n",
      "\n",
      "20-Aug-24 10:34:12: MatplotlibDeprecationWarning: Passing label as a length 92 sequence when plotting a single dataset is deprecated in Matplotlib 3.9 and will error in 3.11.  To keep the current behavior, cast the sequence to string before passing.\n",
      "\n",
      "20-Aug-24 10:34:12: MatplotlibDeprecationWarning: Passing label as a length 92 sequence when plotting a single dataset is deprecated in Matplotlib 3.9 and will error in 3.11.  To keep the current behavior, cast the sequence to string before passing.\n",
      "\n",
      "20-Aug-24 10:34:12: MatplotlibDeprecationWarning: Passing label as a length 92 sequence when plotting a single dataset is deprecated in Matplotlib 3.9 and will error in 3.11.  To keep the current behavior, cast the sequence to string before passing.\n",
      "\n",
      "20-Aug-24 10:34:13: MatplotlibDeprecationWarning: Passing label as a length 92 sequence when plotting a single dataset is deprecated in Matplotlib 3.9 and will error in 3.11.  To keep the current behavior, cast the sequence to string before passing.\n",
      "\n",
      "20-Aug-24 10:34:13: MatplotlibDeprecationWarning: Passing label as a length 92 sequence when plotting a single dataset is deprecated in Matplotlib 3.9 and will error in 3.11.  To keep the current behavior, cast the sequence to string before passing.\n",
      "\n",
      "20-Aug-24 10:34:13: MatplotlibDeprecationWarning: Passing label as a length 92 sequence when plotting a single dataset is deprecated in Matplotlib 3.9 and will error in 3.11.  To keep the current behavior, cast the sequence to string before passing.\n",
      "\n",
      "20-Aug-24 10:34:13: MatplotlibDeprecationWarning: Passing label as a length 92 sequence when plotting a single dataset is deprecated in Matplotlib 3.9 and will error in 3.11.  To keep the current behavior, cast the sequence to string before passing.\n",
      "\n",
      "20-Aug-24 10:34:13: MatplotlibDeprecationWarning: Passing label as a length 92 sequence when plotting a single dataset is deprecated in Matplotlib 3.9 and will error in 3.11.  To keep the current behavior, cast the sequence to string before passing.\n",
      "\n",
      "20-Aug-24 10:34:13: MatplotlibDeprecationWarning: Passing label as a length 92 sequence when plotting a single dataset is deprecated in Matplotlib 3.9 and will error in 3.11.  To keep the current behavior, cast the sequence to string before passing.\n",
      "\n",
      "20-Aug-24 10:34:13: MatplotlibDeprecationWarning: Passing label as a length 92 sequence when plotting a single dataset is deprecated in Matplotlib 3.9 and will error in 3.11.  To keep the current behavior, cast the sequence to string before passing.\n",
      "\n",
      "20-Aug-24 10:34:13: MatplotlibDeprecationWarning: Passing label as a length 92 sequence when plotting a single dataset is deprecated in Matplotlib 3.9 and will error in 3.11.  To keep the current behavior, cast the sequence to string before passing.\n",
      "\n",
      "20-Aug-24 10:34:13: MatplotlibDeprecationWarning: Passing label as a length 92 sequence when plotting a single dataset is deprecated in Matplotlib 3.9 and will error in 3.11.  To keep the current behavior, cast the sequence to string before passing.\n",
      "\n",
      "20-Aug-24 10:34:13: MatplotlibDeprecationWarning: Passing label as a length 92 sequence when plotting a single dataset is deprecated in Matplotlib 3.9 and will error in 3.11.  To keep the current behavior, cast the sequence to string before passing.\n",
      "\n",
      "20-Aug-24 10:34:13: MatplotlibDeprecationWarning: Passing label as a length 92 sequence when plotting a single dataset is deprecated in Matplotlib 3.9 and will error in 3.11.  To keep the current behavior, cast the sequence to string before passing.\n",
      "\n",
      "20-Aug-24 10:34:14: MatplotlibDeprecationWarning: Passing label as a length 4394 sequence when plotting a single dataset is deprecated in Matplotlib 3.9 and will error in 3.11.  To keep the current behavior, cast the sequence to string before passing.\n",
      "\n",
      "20-Aug-24 10:34:14: MatplotlibDeprecationWarning: Passing label as a length 4394 sequence when plotting a single dataset is deprecated in Matplotlib 3.9 and will error in 3.11.  To keep the current behavior, cast the sequence to string before passing.\n",
      "\n",
      "20-Aug-24 10:34:14: MatplotlibDeprecationWarning: Passing label as a length 4394 sequence when plotting a single dataset is deprecated in Matplotlib 3.9 and will error in 3.11.  To keep the current behavior, cast the sequence to string before passing.\n",
      "\n",
      "20-Aug-24 10:34:14: MatplotlibDeprecationWarning: Passing label as a length 4394 sequence when plotting a single dataset is deprecated in Matplotlib 3.9 and will error in 3.11.  To keep the current behavior, cast the sequence to string before passing.\n",
      "\n",
      "20-Aug-24 10:34:14: MatplotlibDeprecationWarning: Passing label as a length 5 sequence when plotting a single dataset is deprecated in Matplotlib 3.9 and will error in 3.11.  To keep the current behavior, cast the sequence to string before passing.\n",
      "\n",
      "20-Aug-24 10:34:14: MatplotlibDeprecationWarning: Passing label as a length 5 sequence when plotting a single dataset is deprecated in Matplotlib 3.9 and will error in 3.11.  To keep the current behavior, cast the sequence to string before passing.\n",
      "\n",
      "20-Aug-24 10:34:14: MatplotlibDeprecationWarning: Passing label as a length 5 sequence when plotting a single dataset is deprecated in Matplotlib 3.9 and will error in 3.11.  To keep the current behavior, cast the sequence to string before passing.\n",
      "\n",
      "20-Aug-24 10:34:14: MatplotlibDeprecationWarning: Passing label as a length 5 sequence when plotting a single dataset is deprecated in Matplotlib 3.9 and will error in 3.11.  To keep the current behavior, cast the sequence to string before passing.\n",
      "\n",
      "20-Aug-24 10:34:15: MatplotlibDeprecationWarning: Passing label as a length 4394 sequence when plotting a single dataset is deprecated in Matplotlib 3.9 and will error in 3.11.  To keep the current behavior, cast the sequence to string before passing.\n",
      "\n",
      "20-Aug-24 10:34:15: MatplotlibDeprecationWarning: Passing label as a length 4394 sequence when plotting a single dataset is deprecated in Matplotlib 3.9 and will error in 3.11.  To keep the current behavior, cast the sequence to string before passing.\n",
      "\n",
      "20-Aug-24 10:34:15: MatplotlibDeprecationWarning: Passing label as a length 5 sequence when plotting a single dataset is deprecated in Matplotlib 3.9 and will error in 3.11.  To keep the current behavior, cast the sequence to string before passing.\n",
      "\n",
      "20-Aug-24 10:34:15: MatplotlibDeprecationWarning: Passing label as a length 4394 sequence when plotting a single dataset is deprecated in Matplotlib 3.9 and will error in 3.11.  To keep the current behavior, cast the sequence to string before passing.\n",
      "\n",
      "20-Aug-24 10:34:15: MatplotlibDeprecationWarning: Passing label as a length 4394 sequence when plotting a single dataset is deprecated in Matplotlib 3.9 and will error in 3.11.  To keep the current behavior, cast the sequence to string before passing.\n",
      "\n",
      "20-Aug-24 10:34:15: MatplotlibDeprecationWarning: Passing label as a length 4394 sequence when plotting a single dataset is deprecated in Matplotlib 3.9 and will error in 3.11.  To keep the current behavior, cast the sequence to string before passing.\n",
      "\n",
      "20-Aug-24 10:34:15: MatplotlibDeprecationWarning: Passing label as a length 4394 sequence when plotting a single dataset is deprecated in Matplotlib 3.9 and will error in 3.11.  To keep the current behavior, cast the sequence to string before passing.\n",
      "\n",
      "20-Aug-24 10:34:15: MatplotlibDeprecationWarning: Passing label as a length 5 sequence when plotting a single dataset is deprecated in Matplotlib 3.9 and will error in 3.11.  To keep the current behavior, cast the sequence to string before passing.\n",
      "\n",
      "20-Aug-24 10:34:15: MatplotlibDeprecationWarning: Passing label as a length 5 sequence when plotting a single dataset is deprecated in Matplotlib 3.9 and will error in 3.11.  To keep the current behavior, cast the sequence to string before passing.\n",
      "\n",
      "20-Aug-24 10:34:15: MatplotlibDeprecationWarning: Passing label as a length 5 sequence when plotting a single dataset is deprecated in Matplotlib 3.9 and will error in 3.11.  To keep the current behavior, cast the sequence to string before passing.\n",
      "\n",
      "20-Aug-24 10:34:15: MatplotlibDeprecationWarning: Passing label as a length 5 sequence when plotting a single dataset is deprecated in Matplotlib 3.9 and will error in 3.11.  To keep the current behavior, cast the sequence to string before passing.\n",
      "\n",
      "20-Aug-24 10:34:15: MatplotlibDeprecationWarning: Passing label as a length 4394 sequence when plotting a single dataset is deprecated in Matplotlib 3.9 and will error in 3.11.  To keep the current behavior, cast the sequence to string before passing.\n",
      "\n",
      "20-Aug-24 10:34:15: MatplotlibDeprecationWarning: Passing label as a length 4394 sequence when plotting a single dataset is deprecated in Matplotlib 3.9 and will error in 3.11.  To keep the current behavior, cast the sequence to string before passing.\n",
      "\n",
      "20-Aug-24 10:34:15: MatplotlibDeprecationWarning: Passing label as a length 5 sequence when plotting a single dataset is deprecated in Matplotlib 3.9 and will error in 3.11.  To keep the current behavior, cast the sequence to string before passing.\n",
      "\n",
      "20-Aug-24 10:34:16: MatplotlibDeprecationWarning: Passing label as a length 978 sequence when plotting a single dataset is deprecated in Matplotlib 3.9 and will error in 3.11.  To keep the current behavior, cast the sequence to string before passing.\n",
      "\n",
      "20-Aug-24 10:34:16: MatplotlibDeprecationWarning: Passing label as a length 978 sequence when plotting a single dataset is deprecated in Matplotlib 3.9 and will error in 3.11.  To keep the current behavior, cast the sequence to string before passing.\n",
      "\n",
      "20-Aug-24 10:34:16: MatplotlibDeprecationWarning: Passing label as a length 978 sequence when plotting a single dataset is deprecated in Matplotlib 3.9 and will error in 3.11.  To keep the current behavior, cast the sequence to string before passing.\n",
      "\n",
      "20-Aug-24 10:34:16: MatplotlibDeprecationWarning: Passing label as a length 978 sequence when plotting a single dataset is deprecated in Matplotlib 3.9 and will error in 3.11.  To keep the current behavior, cast the sequence to string before passing.\n",
      "\n",
      "20-Aug-24 10:34:16: MatplotlibDeprecationWarning: Passing label as a length 29 sequence when plotting a single dataset is deprecated in Matplotlib 3.9 and will error in 3.11.  To keep the current behavior, cast the sequence to string before passing.\n",
      "\n",
      "20-Aug-24 10:34:16: MatplotlibDeprecationWarning: Passing label as a length 29 sequence when plotting a single dataset is deprecated in Matplotlib 3.9 and will error in 3.11.  To keep the current behavior, cast the sequence to string before passing.\n",
      "\n",
      "20-Aug-24 10:34:16: MatplotlibDeprecationWarning: Passing label as a length 29 sequence when plotting a single dataset is deprecated in Matplotlib 3.9 and will error in 3.11.  To keep the current behavior, cast the sequence to string before passing.\n",
      "\n",
      "20-Aug-24 10:34:16: MatplotlibDeprecationWarning: Passing label as a length 29 sequence when plotting a single dataset is deprecated in Matplotlib 3.9 and will error in 3.11.  To keep the current behavior, cast the sequence to string before passing.\n",
      "\n",
      "20-Aug-24 10:34:16: MatplotlibDeprecationWarning: Passing label as a length 978 sequence when plotting a single dataset is deprecated in Matplotlib 3.9 and will error in 3.11.  To keep the current behavior, cast the sequence to string before passing.\n",
      "\n",
      "20-Aug-24 10:34:16: MatplotlibDeprecationWarning: Passing label as a length 978 sequence when plotting a single dataset is deprecated in Matplotlib 3.9 and will error in 3.11.  To keep the current behavior, cast the sequence to string before passing.\n",
      "\n",
      "20-Aug-24 10:34:16: MatplotlibDeprecationWarning: Passing label as a length 29 sequence when plotting a single dataset is deprecated in Matplotlib 3.9 and will error in 3.11.  To keep the current behavior, cast the sequence to string before passing.\n",
      "\n",
      "20-Aug-24 10:34:17: MatplotlibDeprecationWarning: Passing label as a length 978 sequence when plotting a single dataset is deprecated in Matplotlib 3.9 and will error in 3.11.  To keep the current behavior, cast the sequence to string before passing.\n",
      "\n",
      "20-Aug-24 10:34:17: MatplotlibDeprecationWarning: Passing label as a length 978 sequence when plotting a single dataset is deprecated in Matplotlib 3.9 and will error in 3.11.  To keep the current behavior, cast the sequence to string before passing.\n",
      "\n",
      "20-Aug-24 10:34:17: MatplotlibDeprecationWarning: Passing label as a length 978 sequence when plotting a single dataset is deprecated in Matplotlib 3.9 and will error in 3.11.  To keep the current behavior, cast the sequence to string before passing.\n",
      "\n",
      "20-Aug-24 10:34:17: MatplotlibDeprecationWarning: Passing label as a length 978 sequence when plotting a single dataset is deprecated in Matplotlib 3.9 and will error in 3.11.  To keep the current behavior, cast the sequence to string before passing.\n",
      "\n",
      "20-Aug-24 10:34:17: MatplotlibDeprecationWarning: Passing label as a length 29 sequence when plotting a single dataset is deprecated in Matplotlib 3.9 and will error in 3.11.  To keep the current behavior, cast the sequence to string before passing.\n",
      "\n",
      "20-Aug-24 10:34:17: MatplotlibDeprecationWarning: Passing label as a length 29 sequence when plotting a single dataset is deprecated in Matplotlib 3.9 and will error in 3.11.  To keep the current behavior, cast the sequence to string before passing.\n",
      "\n",
      "20-Aug-24 10:34:17: MatplotlibDeprecationWarning: Passing label as a length 29 sequence when plotting a single dataset is deprecated in Matplotlib 3.9 and will error in 3.11.  To keep the current behavior, cast the sequence to string before passing.\n",
      "\n",
      "20-Aug-24 10:34:17: MatplotlibDeprecationWarning: Passing label as a length 29 sequence when plotting a single dataset is deprecated in Matplotlib 3.9 and will error in 3.11.  To keep the current behavior, cast the sequence to string before passing.\n",
      "\n",
      "20-Aug-24 10:34:17: MatplotlibDeprecationWarning: Passing label as a length 978 sequence when plotting a single dataset is deprecated in Matplotlib 3.9 and will error in 3.11.  To keep the current behavior, cast the sequence to string before passing.\n",
      "\n",
      "20-Aug-24 10:34:17: MatplotlibDeprecationWarning: Passing label as a length 978 sequence when plotting a single dataset is deprecated in Matplotlib 3.9 and will error in 3.11.  To keep the current behavior, cast the sequence to string before passing.\n",
      "\n",
      "20-Aug-24 10:34:17: MatplotlibDeprecationWarning: Passing label as a length 29 sequence when plotting a single dataset is deprecated in Matplotlib 3.9 and will error in 3.11.  To keep the current behavior, cast the sequence to string before passing.\n",
      "\n"
     ]
    }
   ],
   "source": [
    "names = [\"THB\", \"PSP\", \"Wind\"]\n",
    "for p, name in zip(ps, names):\n",
    "    render_p(p, name)"
   ]
  },
  {
   "cell_type": "code",
   "execution_count": null,
   "metadata": {},
   "outputs": [],
   "source": []
  }
 ],
 "metadata": {
  "kernelspec": {
   "display_name": "Python 3",
   "language": "python",
   "name": "python3"
  },
  "language_info": {
   "codemirror_mode": {
    "name": "ipython",
    "version": 3
   },
   "file_extension": ".py",
   "mimetype": "text/x-python",
   "name": "python",
   "nbconvert_exporter": "python",
   "pygments_lexer": "ipython3",
   "version": "3.12.7"
  }
 },
 "nbformat": 4,
 "nbformat_minor": 2
}
