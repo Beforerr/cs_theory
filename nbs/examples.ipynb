{
 "cells": [
  {
   "cell_type": "markdown",
   "metadata": {},
   "source": [
    "## Get data"
   ]
  },
  {
   "cell_type": "code",
   "execution_count": null,
   "metadata": {},
   "outputs": [],
   "source": [
    "%load_ext autoreload\n",
    "%autoreload 2\n",
    "from discontinuitypy.plot.alfvenicity import tsplot_Alfvenicity\n",
    "from space_analysis.ds.spz.io import to_dataarray\n",
    "import speasy as spz\n",
    "from speasy.core.requests_scheduling.request_dispatch import init_cdaweb\n",
    "import importlib.util\n",
    "import matplotlib.pyplot as plt\n",
    "from beforerr.matplotlib import PlotOpts, process_figure, easy_save\n",
    "import holoviews as hv"
   ]
  },
  {
   "cell_type": "code",
   "execution_count": null,
   "metadata": {},
   "outputs": [],
   "source": [
    "hv.extension(\"matplotlib\")\n",
    "\n",
    "if importlib.util.find_spec(\"scienceplots\") is not None:\n",
    "    importlib.import_module(\"scienceplots\")\n",
    "    plt.style.use([\"science\", \"nature\", \"notebook\"])\n",
    "init_cdaweb()"
   ]
  },
  {
   "cell_type": "code",
   "execution_count": 12,
   "metadata": {},
   "outputs": [],
   "source": [
    "plot_opts = PlotOpts(sync_legend_colors=True, hide_legend_lines=True)"
   ]
  },
  {
   "cell_type": "code",
   "execution_count": 13,
   "metadata": {},
   "outputs": [],
   "source": [
    "coord = \"gsm\"\n",
    "thm_products = [\n",
    "    \"cda/THB_L2_FGM/thb_fgs_gsm\",\n",
    "    \"cda/THB_L2_MOM/thb_peim_velocity_gsmQ\",\n",
    "    \"cda/THB_L2_MOM/thb_peim_densityQ\",\n",
    "]\n",
    "thm_tr = [\"2016-05-20T17:47:00\", \"2016-05-20T17:53:40\"]\n",
    "\n",
    "psp_products = [\n",
    "    \"cda/PSP_FLD_L2_MAG_RTN/psp_fld_l2_mag_RTN\",\n",
    "    \"cda/PSP_SWP_SPI_SF00_L3_MOM/VEL_SC\",\n",
    "    \"cda/PSP_SWP_SPI_SF00_L3_MOM/DENS\",\n",
    "]\n",
    "\n",
    "# higher resolution but in `tplot` format\n",
    "psp_products = [\n",
    "    \"psp_fld_l2_mag_RTN_4_Sa_per_Cyc\",\n",
    "    \"psp_swp_spi_af00_L3_VEL_RTN\",\n",
    "    \"psp_swp_spi_af00_L3_DENS\",\n",
    "]\n",
    "\n",
    "psp_tr = [\"2021-01-17T13:54:17\", \"2021-01-17T13:54:32\"]\n",
    "\n",
    "wi_products = [\"cda/WI_H2_MFI/BGSE\", \"cda/WI_PM_3DP/P_VELS\", \"cda/WI_PM_3DP/P_DENS\"]\n",
    "wi_tr = [\"2011-08-26T21:26:00\", \"2011-08-26T21:27:30\"]"
   ]
  },
  {
   "cell_type": "code",
   "execution_count": 32,
   "metadata": {},
   "outputs": [],
   "source": [
    "from psp.io.psp import get_data as psp_get_data\n",
    "\n",
    "\n",
    "def get_data(products, timerange):\n",
    "    for product in products:\n",
    "        if product in psp_products:\n",
    "            yield psp_get_data(product, timerange)\n",
    "        else:\n",
    "            d = spz.get_data(product, timerange)\n",
    "            yield to_dataarray(d)\n",
    "\n",
    "\n",
    "def temp(products, timerage):\n",
    "    das = get_data(products, timerage)\n",
    "    plot = tsplot_Alfvenicity(*das)\n",
    "    for subplot in plot:\n",
    "        subplot.opts(legend_position=\"right\")\n",
    "    plot[-1].opts(show_legend=False)\n",
    "    return plot"
   ]
  },
  {
   "cell_type": "code",
   "execution_count": null,
   "metadata": {},
   "outputs": [],
   "source": [
    "configs = [(thm_products, thm_tr), (psp_products, psp_tr), (wi_products, wi_tr)]\n",
    "ps = [temp(*c) for c in configs]"
   ]
  },
  {
   "cell_type": "code",
   "execution_count": 38,
   "metadata": {},
   "outputs": [],
   "source": [
    "def render_p(p, name):\n",
    "    p.opts(fig_size=150, tight=True, sublabel_format=None)\n",
    "    fig = hv.render(p)\n",
    "    process_figure(fig, plot_opts)\n",
    "    easy_save(name, fig)"
   ]
  },
  {
   "cell_type": "code",
   "execution_count": null,
   "metadata": {},
   "outputs": [],
   "source": [
    "def render_p(p, name):\n",
    "    p.opts(fig_size=150, tight=True, sublabel_format=None)\n",
    "    fig = hv.render(p)\n",
    "    process_figure(fig, plot_opts)\n",
    "    easy_save(name, fig)"
   ]
  },
  {
   "cell_type": "code",
   "execution_count": null,
   "metadata": {},
   "outputs": [],
   "source": [
    "names = [\"THB\", \"PSP\", \"Wind\"]\n",
    "for p, name in zip(ps, names):\n",
    "    render_p(p, name)"
   ]
  }
 ],
 "metadata": {
  "kernelspec": {
   "display_name": "Python 3",
   "language": "python",
   "name": "python3"
  },
  "language_info": {
   "codemirror_mode": {
    "name": "ipython",
    "version": 3
   },
   "file_extension": ".py",
   "mimetype": "text/x-python",
   "name": "python",
   "nbconvert_exporter": "python",
   "pygments_lexer": "ipython3",
   "version": "3.12.7"
  }
 },
 "nbformat": 4,
 "nbformat_minor": 2
}
